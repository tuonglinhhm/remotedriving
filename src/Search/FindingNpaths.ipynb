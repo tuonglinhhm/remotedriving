{
 "cells": [
  {
   "cell_type": "code",
   "execution_count": null,
   "metadata": {},
   "outputs": [],
   "source": [
    "import KSP \n",
    "from timeit import default_timer as timer\n",
    "\n",
    "graph_file = 'inputs/data.txt' # the graph of the traffic network\n",
    "ODpairs = [['A','N']] # the list of origins and destinations\n",
    "K = 20 # the number of paths to find\n",
    "start = timer()\n",
    "V, E = KSP.generateGraph(graph_file)\n",
    "for od in ODpairs:\n",
    "\tprint('Source|Destination node set: ', od[0], '|', od[1])\n",
    "\troutes = KSP.getKRoutes(V, E, od[0], od[1], K)\n",
    "\tfor i in routes:\n",
    "\t\troute = i[0]\n",
    "\t\tcost = i[1]\n",
    "\t\tprint(route, 'has cost', cost)\n",
    "\t\tend = timer()\n",
    "\t\tprint(end - start, 's') "
   ]
  },
  {
   "cell_type": "code",
   "execution_count": null,
   "metadata": {},
   "outputs": [],
   "source": [
    "import KSP \n",
    "from timeit import default_timer as timer\n",
    "graph_file = 'inputs/roadnetwork.txt'\n",
    "ODpairs = [['-32426#0','-32970']] \n",
    "K = 3 \n",
    "start = timer()\n",
    "V, E = KSP.generateGraph(graph_file)\n",
    "for od in ODpairs:\n",
    "\tprint('Source|Destination node set: ', od[0], '|', od[1])\n",
    "\troutes = KSP.getKRoutes(V, E, od[0], od[1], K)\n",
    "\tfor i in routes:\n",
    "\t\troute = i[0]\n",
    "\t\tcost = i[1]\n",
    "\t\tprint(route, 'has cost', cost)\n",
    "\t\tend = timer()\n",
    "\t\tprint(end - start, 's') "
   ]
  }
 ],
 "metadata": {
  "kernelspec": {
   "display_name": "Python 3",
   "language": "python",
   "name": "python3"
  },
  "language_info": {
   "codemirror_mode": {
    "name": "ipython",
    "version": 3
   },
   "file_extension": ".py",
   "mimetype": "text/x-python",
   "name": "python",
   "nbconvert_exporter": "python",
   "pygments_lexer": "ipython3",
   "version": "3.8.5"
  }
 },
 "nbformat": 4,
 "nbformat_minor": 4
}
